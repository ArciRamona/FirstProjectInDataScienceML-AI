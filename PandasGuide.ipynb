{
 "cells": [
  {
   "cell_type": "markdown",
   "id": "5806c3e9-77f7-4362-8f94-1471ff3ef355",
   "metadata": {},
   "source": [
    "# Basic Statistical Methods"
   ]
  },
  {
   "cell_type": "code",
   "execution_count": null,
   "id": "d6bf6a14-4bff-4f77-a673-8a397c44359a",
   "metadata": {},
   "outputs": [],
   "source": [
    "Function\tDescription\n",
    ".mean()\tArithmetic mean (average)\n",
    ".median()\tMedian (middle value)\n",
    ".mode()\tMost frequent value(s)\n",
    ".sum()\tSum of values\n",
    ".count()\tNumber of non-null values\n",
    ".min()\tMinimum value\n",
    ".max()\tMaximum value\n",
    ".std()\tStandard deviation\n",
    ".var()\tVariance\n",
    ".describe()\tGenerates summary statistics"
   ]
  },
  {
   "cell_type": "code",
   "execution_count": null,
   "id": "a7315b5f-ebb1-43ec-99da-ee11f52672d3",
   "metadata": {},
   "outputs": [],
   "source": []
  }
 ],
 "metadata": {
  "kernelspec": {
   "display_name": "Python [conda env:base] *",
   "language": "python",
   "name": "conda-base-py"
  },
  "language_info": {
   "codemirror_mode": {
    "name": "ipython",
    "version": 3
   },
   "file_extension": ".py",
   "mimetype": "text/x-python",
   "name": "python",
   "nbconvert_exporter": "python",
   "pygments_lexer": "ipython3",
   "version": "3.12.7"
  }
 },
 "nbformat": 4,
 "nbformat_minor": 5
}
