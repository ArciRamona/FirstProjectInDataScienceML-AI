{
 "cells": [
  {
   "cell_type": "markdown",
   "id": "92538a3b-6555-455b-97e6-5569d182094b",
   "metadata": {},
   "source": [
    "# BookMarkJupyter Notebook shortcuts for Mac\n",
    "\n",
    "1. Adding or removing a cell\n",
    "The cell will be highlighted green. Press the “ESC” key on the top left corner of your Mac keyboard to highlight the cell blue\n",
    "\n",
    "2. If you want to add a cell above the highlighted one press the “A” key or if you want to add a cell below press the “B” key\n",
    "\n",
    "\n",
    "3. If you want to delete a cell make sure you have the right cell selected blue and press the “X” key\n",
    "\n",
    "\n",
    "4. If you accidentally delete the wrong cell no problem you can retrieve it.\n",
    "First, make sure your cell is highlighted in blue by pressing the “ESC ”key. Then press the “Z” key\n",
    "\n",
    "\n",
    "Find and Replace\n",
    "If you’re looking to find items in your notebook press the “COMMAND + F” keys together to type your search\n",
    "\n",
    "2. If you are looking to find & replace items in your notebook first make sure your cell is highlighted blue by pressing the “ESC” button. After, press the “F” key, a prompt will appear. In the find, bar enter the item you are searching for and in the replace bar enter the item you want to replace the search word with. Click the results button which is to the left of the find bar. Finally, click the replace all button at the bottom right corner of the prompt window.\n",
    "\n",
    "\n",
    "Opening and Closing Punctuation\n",
    "Highlight what you want to enclose with your punctuation by pressing “COMMAND + SHIFT + RIGHT ARROW KEY (or LEFT KEY)” depending on where your cursor is\n",
    "\n",
    "2. Once highlighted add your punctuation. In the example below, we are using “SHIFT + 9” to populate with opening and closing parenthesis. But you can use this shortcut with ‘ ’, “ ” , ( ) , {} , [].\n",
    "\n",
    "\n",
    "Auto filling variables\n",
    "Sometimes I find myself typing variables over and over again. Instead, you can auto-fill them by starting to type your variable and then pressing the TAB button.\n",
    "\n",
    "\n",
    "Viewing Documentation\n",
    "If you want to view or further understand the parameters you want to enter for a method press the SHIFT + TAB keys after you’ve entered the method.\n",
    "\n",
    "\n",
    "Viewing methods for an object\n",
    "If you want to view what methods a specific object has, type an object in a cell then press the TAB key.\n",
    "\n",
    "\n",
    "Commenting a line\n",
    "To comment out a whole line press the “COMMAND + /” on the line you want to be commented.\n",
    "\n",
    "\n",
    "Help Function\n",
    "If you want to view what libraries are installed with python on your Jupyter Notebook go to a cell and type in “help(‘modules’)” and press “ENTER+SHIFT”. You can also use the help() function to find detailed documentation on any objects or functions.\n",
    "\n",
    "help (‘modules’)\n",
    "\n",
    "\n",
    "help(str)\n",
    "\n",
    "\n",
    "There’s More…\n",
    "For more shortcuts in Jupyter Notebook, press the ESC key to highlight a cell blue. Then press the H key. A prompt should appear with more shortcuts for your needs.\n",
    "\n",
    "2. You can also press “COMMAND + SHIFT + P” to pull up the command palette for more shortcuts.\n",
    "\n",
    "\n"
   ]
  },
  {
   "cell_type": "code",
   "execution_count": null,
   "id": "91fdb3ae-c655-4fd9-acc7-b024b58c170b",
   "metadata": {},
   "outputs": [],
   "source": []
  }
 ],
 "metadata": {
  "kernelspec": {
   "display_name": "Python [conda env:env]",
   "language": "python",
   "name": "conda-env-env-py"
  },
  "language_info": {
   "codemirror_mode": {
    "name": "ipython",
    "version": 3
   },
   "file_extension": ".py",
   "mimetype": "text/x-python",
   "name": "python",
   "nbconvert_exporter": "python",
   "pygments_lexer": "ipython3",
   "version": "3.10.16"
  }
 },
 "nbformat": 4,
 "nbformat_minor": 5
}
